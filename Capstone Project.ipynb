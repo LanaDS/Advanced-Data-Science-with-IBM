{
    "cells": [
        {
            "metadata": {},
            "cell_type": "markdown",
            "source": "![Alt text](https://sun9-48.userapi.com/c858236/v858236600/1b87ba/c5083w2n7eE.jpg)"
        },
        {
            "metadata": {},
            "cell_type": "markdown",
            "source": "### Svetlana Melikyan"
        },
        {
            "metadata": {},
            "cell_type": "markdown",
            "source": "# Name - Ethnicity Classifier "
        },
        {
            "metadata": {},
            "cell_type": "markdown",
            "source": "#### Data\n\n#####  For this exercise we will use the Popular Baby Name dataset from NYC OpenData Source. This dataset consists of  19.4K Rows and 6 Columns .  For our project , we will use a small part of data.\n\n#### Use Case\n\n##### The problem of ethnicity identification from names has a variety of important applications, including biomedical research, demographic studies, and marketing.  This kind of Classifier can be used in many areas.\n\n"
        },
        {
            "metadata": {},
            "cell_type": "markdown",
            "source": "######  We wiil start by Installing Spark  and Libraries. This is because I have reached the Limit for IBM Watson Studio."
        },
        {
            "metadata": {},
            "cell_type": "code",
            "source": "!pip install pyspark==2.4.5",
            "execution_count": 1,
            "outputs": [
                {
                    "output_type": "stream",
                    "text": "Requirement already satisfied: pyspark==2.4.5 in /opt/conda/envs/Python36/lib/python3.6/site-packages (2.4.5)\r\nRequirement already satisfied: py4j==0.10.7 in /opt/conda/envs/Python36/lib/python3.6/site-packages (from pyspark==2.4.5) (0.10.7)\r\n",
                    "name": "stdout"
                }
            ]
        },
        {
            "metadata": {},
            "cell_type": "code",
            "source": "!pip install https://github.com/IBM/coursera/blob/master/systemml-1.3.0-SNAPSHOT-python.tar.gz?raw=true",
            "execution_count": 2,
            "outputs": [
                {
                    "output_type": "stream",
                    "text": "Collecting https://github.com/IBM/coursera/blob/master/systemml-1.3.0-SNAPSHOT-python.tar.gz?raw=true\n  Using cached https://github.com/IBM/coursera/blob/master/systemml-1.3.0-SNAPSHOT-python.tar.gz?raw=true\nRequirement already satisfied (use --upgrade to upgrade): systemml==1.3.0 from https://github.com/IBM/coursera/blob/master/systemml-1.3.0-SNAPSHOT-python.tar.gz?raw=true in /opt/conda/envs/Python36/lib/python3.6/site-packages\nRequirement already satisfied: numpy>=1.8.2 in /opt/conda/envs/Python36/lib/python3.6/site-packages (from systemml==1.3.0) (1.15.4)\nRequirement already satisfied: scipy>=0.15.1 in /opt/conda/envs/Python36/lib/python3.6/site-packages (from systemml==1.3.0) (1.2.0)\nRequirement already satisfied: pandas in /opt/conda/envs/Python36/lib/python3.6/site-packages (from systemml==1.3.0) (0.24.1)\nRequirement already satisfied: scikit-learn in /opt/conda/envs/Python36/lib/python3.6/site-packages (from systemml==1.3.0) (0.20.3)\nRequirement already satisfied: Pillow>=2.0.0 in /opt/conda/envs/Python36/lib/python3.6/site-packages (from systemml==1.3.0) (5.4.1)\nRequirement already satisfied: pytz>=2011k in /opt/conda/envs/Python36/lib/python3.6/site-packages (from pandas->systemml==1.3.0) (2018.9)\nRequirement already satisfied: python-dateutil>=2.5.0 in /opt/conda/envs/Python36/lib/python3.6/site-packages (from pandas->systemml==1.3.0) (2.7.5)\nRequirement already satisfied: six>=1.5 in /opt/conda/envs/Python36/lib/python3.6/site-packages (from python-dateutil>=2.5.0->pandas->systemml==1.3.0) (1.12.0)\nBuilding wheels for collected packages: systemml\n  Building wheel for systemml (setup.py) ... \u001b[?25ldone\n\u001b[?25h  Stored in directory: /home/dsxuser/.cache/pip/wheels/aa/bf/28/4344dd13abd8b9b6cbd4032baf4b851873d2e2288a65631fd2\nSuccessfully built systemml\n",
                    "name": "stdout"
                }
            ]
        },
        {
            "metadata": {},
            "cell_type": "code",
            "source": "!mkdir -p /home/dsxuser/work/systemml\n!ln -s -f ~/user-libs/python3.6/systemml/systemml-java/systemml-1.3.0-SNAPSHOT-extra.jar ~/user-libs/spark2/systemml-1.3.0-SNAPSHOT-extra.jar\n!ln -s -f ~/user-libs/python3.6/systemml/systemml-java/systemml-1.3.0-SNAPSHOT.jar ~/user-libs/spark2/systemml-1.3.0-SNAPSHOT.jar",
            "execution_count": 3,
            "outputs": [
                {
                    "output_type": "stream",
                    "text": "ln: failed to create symbolic link \u2018/home/dsxuser/user-libs/spark2/systemml-1.3.0-SNAPSHOT-extra.jar\u2019: No such file or directory\nln: failed to create symbolic link \u2018/home/dsxuser/user-libs/spark2/systemml-1.3.0-SNAPSHOT.jar\u2019: No such file or directory\n",
                    "name": "stdout"
                }
            ]
        },
        {
            "metadata": {},
            "cell_type": "code",
            "source": "# Importing librarires\n!pip install sodapy\n\nimport pandas as pd\nfrom pandas import read_csv\nfrom pandas import DataFrame\nimport numpy as np\nimport random \nimport sklearn\nimport matplotlib.pyplot as plt\nimport seaborn as sns\nfrom sodapy import Socrata\nfrom pyspark import SparkContext, SparkConf\nfrom pyspark.sql import SQLContext, SparkSession\nfrom pyspark.sql.types import StructType, StructField, DoubleType, IntegerType, StringType\nsc = SparkContext.getOrCreate(SparkConf().setMaster(\"local[*]\"))\nfrom pyspark.sql import SparkSession\nspark = SparkSession \\\n    .builder \\\n    .getOrCreate()",
            "execution_count": 4,
            "outputs": [
                {
                    "output_type": "stream",
                    "text": "Requirement already satisfied: sodapy in /opt/conda/envs/Python36/lib/python3.6/site-packages (2.0.0)\nRequirement already satisfied: requests>=2.20.0 in /opt/conda/envs/Python36/lib/python3.6/site-packages (from sodapy) (2.21.0)\nRequirement already satisfied: urllib3<1.25,>=1.21.1 in /opt/conda/envs/Python36/lib/python3.6/site-packages (from requests>=2.20.0->sodapy) (1.24.1)\nRequirement already satisfied: certifi>=2017.4.17 in /opt/conda/envs/Python36/lib/python3.6/site-packages (from requests>=2.20.0->sodapy) (2019.11.28)\nRequirement already satisfied: idna<2.9,>=2.5 in /opt/conda/envs/Python36/lib/python3.6/site-packages (from requests>=2.20.0->sodapy) (2.8)\nRequirement already satisfied: chardet<3.1.0,>=3.0.2 in /opt/conda/envs/Python36/lib/python3.6/site-packages (from requests>=2.20.0->sodapy) (3.0.4)\n",
                    "name": "stdout"
                }
            ]
        },
        {
            "metadata": {},
            "cell_type": "markdown",
            "source": "##### ETL"
        },
        {
            "metadata": {},
            "cell_type": "code",
            "source": "#Getting Data\nclient = Socrata(\"data.cityofnewyork.us\", None)\nresults = client.get(\"25th-nujf\", limit=2000)\nresults_df = pd.DataFrame.from_records(results)\nresults_df.head()",
            "execution_count": 5,
            "outputs": [
                {
                    "output_type": "stream",
                    "text": "WARNING:root:Requests made without an app_token will be subject to strict throttling limits.\n",
                    "name": "stderr"
                },
                {
                    "output_type": "execute_result",
                    "execution_count": 5,
                    "data": {
                        "text/plain": "  brth_yr  cnt                      ethcty    gndr      nm rnk\n0    2016  172  ASIAN AND PACIFIC ISLANDER  FEMALE  Olivia   1\n1    2016  112  ASIAN AND PACIFIC ISLANDER  FEMALE   Chloe   2\n2    2016  104  ASIAN AND PACIFIC ISLANDER  FEMALE  Sophia   3\n3    2016   99  ASIAN AND PACIFIC ISLANDER  FEMALE   Emily   4\n4    2016   99  ASIAN AND PACIFIC ISLANDER  FEMALE    Emma   4",
                        "text/html": "<div>\n<style scoped>\n    .dataframe tbody tr th:only-of-type {\n        vertical-align: middle;\n    }\n\n    .dataframe tbody tr th {\n        vertical-align: top;\n    }\n\n    .dataframe thead th {\n        text-align: right;\n    }\n</style>\n<table border=\"1\" class=\"dataframe\">\n  <thead>\n    <tr style=\"text-align: right;\">\n      <th></th>\n      <th>brth_yr</th>\n      <th>cnt</th>\n      <th>ethcty</th>\n      <th>gndr</th>\n      <th>nm</th>\n      <th>rnk</th>\n    </tr>\n  </thead>\n  <tbody>\n    <tr>\n      <th>0</th>\n      <td>2016</td>\n      <td>172</td>\n      <td>ASIAN AND PACIFIC ISLANDER</td>\n      <td>FEMALE</td>\n      <td>Olivia</td>\n      <td>1</td>\n    </tr>\n    <tr>\n      <th>1</th>\n      <td>2016</td>\n      <td>112</td>\n      <td>ASIAN AND PACIFIC ISLANDER</td>\n      <td>FEMALE</td>\n      <td>Chloe</td>\n      <td>2</td>\n    </tr>\n    <tr>\n      <th>2</th>\n      <td>2016</td>\n      <td>104</td>\n      <td>ASIAN AND PACIFIC ISLANDER</td>\n      <td>FEMALE</td>\n      <td>Sophia</td>\n      <td>3</td>\n    </tr>\n    <tr>\n      <th>3</th>\n      <td>2016</td>\n      <td>99</td>\n      <td>ASIAN AND PACIFIC ISLANDER</td>\n      <td>FEMALE</td>\n      <td>Emily</td>\n      <td>4</td>\n    </tr>\n    <tr>\n      <th>4</th>\n      <td>2016</td>\n      <td>99</td>\n      <td>ASIAN AND PACIFIC ISLANDER</td>\n      <td>FEMALE</td>\n      <td>Emma</td>\n      <td>4</td>\n    </tr>\n  </tbody>\n</table>\n</div>"
                    },
                    "metadata": {}
                }
            ]
        },
        {
            "metadata": {},
            "cell_type": "markdown",
            "source": "##### Data Cleansing"
        },
        {
            "metadata": {},
            "cell_type": "code",
            "source": "# Check that all DataFrame columns have no missing values\nresults_df.info()",
            "execution_count": 6,
            "outputs": [
                {
                    "output_type": "stream",
                    "text": "<class 'pandas.core.frame.DataFrame'>\nRangeIndex: 2000 entries, 0 to 1999\nData columns (total 6 columns):\nbrth_yr    2000 non-null object\ncnt        2000 non-null object\nethcty     2000 non-null object\ngndr       2000 non-null object\nnm         2000 non-null object\nrnk        2000 non-null object\ndtypes: object(6)\nmemory usage: 93.8+ KB\n",
                    "name": "stdout"
                }
            ]
        },
        {
            "metadata": {},
            "cell_type": "code",
            "source": "# Cleaning the data by deleting additional information\ndel results_df['brth_yr']\nresults_df.info()",
            "execution_count": 7,
            "outputs": [
                {
                    "output_type": "stream",
                    "text": "<class 'pandas.core.frame.DataFrame'>\nRangeIndex: 2000 entries, 0 to 1999\nData columns (total 5 columns):\ncnt       2000 non-null object\nethcty    2000 non-null object\ngndr      2000 non-null object\nnm        2000 non-null object\nrnk       2000 non-null object\ndtypes: object(5)\nmemory usage: 78.2+ KB\n",
                    "name": "stdout"
                }
            ]
        },
        {
            "metadata": {},
            "cell_type": "code",
            "source": "results_df.shape",
            "execution_count": 8,
            "outputs": [
                {
                    "output_type": "execute_result",
                    "execution_count": 8,
                    "data": {
                        "text/plain": "(2000, 5)"
                    },
                    "metadata": {}
                }
            ]
        },
        {
            "metadata": {},
            "cell_type": "code",
            "source": "\nresults_df.describe()",
            "execution_count": 9,
            "outputs": [
                {
                    "output_type": "execute_result",
                    "execution_count": 9,
                    "data": {
                        "text/plain": "         cnt              ethcty    gndr     nm   rnk\ncount   2000                2000    2000   2000  2000\nunique   165                   4       2   1197    97\ntop       10  WHITE NON HISPANIC  FEMALE  Avery    82\nfreq     147                 687    1047      7    52",
                        "text/html": "<div>\n<style scoped>\n    .dataframe tbody tr th:only-of-type {\n        vertical-align: middle;\n    }\n\n    .dataframe tbody tr th {\n        vertical-align: top;\n    }\n\n    .dataframe thead th {\n        text-align: right;\n    }\n</style>\n<table border=\"1\" class=\"dataframe\">\n  <thead>\n    <tr style=\"text-align: right;\">\n      <th></th>\n      <th>cnt</th>\n      <th>ethcty</th>\n      <th>gndr</th>\n      <th>nm</th>\n      <th>rnk</th>\n    </tr>\n  </thead>\n  <tbody>\n    <tr>\n      <th>count</th>\n      <td>2000</td>\n      <td>2000</td>\n      <td>2000</td>\n      <td>2000</td>\n      <td>2000</td>\n    </tr>\n    <tr>\n      <th>unique</th>\n      <td>165</td>\n      <td>4</td>\n      <td>2</td>\n      <td>1197</td>\n      <td>97</td>\n    </tr>\n    <tr>\n      <th>top</th>\n      <td>10</td>\n      <td>WHITE NON HISPANIC</td>\n      <td>FEMALE</td>\n      <td>Avery</td>\n      <td>82</td>\n    </tr>\n    <tr>\n      <th>freq</th>\n      <td>147</td>\n      <td>687</td>\n      <td>1047</td>\n      <td>7</td>\n      <td>52</td>\n    </tr>\n  </tbody>\n</table>\n</div>"
                    },
                    "metadata": {}
                }
            ]
        },
        {
            "metadata": {},
            "cell_type": "code",
            "source": "results_df['ethcty'].value_counts()",
            "execution_count": 10,
            "outputs": [
                {
                    "output_type": "execute_result",
                    "execution_count": 10,
                    "data": {
                        "text/plain": "WHITE NON HISPANIC            687\nHISPANIC                      591\nASIAN AND PACIFIC ISLANDER    377\nBLACK NON HISPANIC            345\nName: ethcty, dtype: int64"
                    },
                    "metadata": {}
                }
            ]
        },
        {
            "metadata": {},
            "cell_type": "code",
            "source": "results_df['nm'].value_counts()",
            "execution_count": 11,
            "outputs": [
                {
                    "output_type": "execute_result",
                    "execution_count": 11,
                    "data": {
                        "text/plain": "Avery          7\nDylan          5\nRyan           5\nLogan          5\nChristopher    4\nMaya           4\nEli            4\nFatima         4\nElijah         4\nMason          4\nIsaac          4\nGabriel        4\nNathaniel      4\nAlexis         4\nJason          4\nTimothy        4\nJacob          4\nArianna        4\nAlexander      4\nSophia         4\nNathan         4\nMia            4\nElla           4\nAnnabelle      4\nBella          4\nEmily          4\nKai            4\nJace           4\nCharlotte      4\nAaron          4\n              ..\nSyed           1\nYisrael        1\nKrish          1\nJaylene        1\nEllis          1\nHareem         1\nElsa           1\nElianna        1\nSamara         1\nBryanna        1\nEmanuel        1\nShia           1\nDiego          1\nInaaya         1\nDevora         1\nEverett        1\nGolda          1\nMaxim          1\nYisroel        1\nGeorgia        1\nBen            1\nWinnie         1\nMendy          1\nSolomon        1\nSharon         1\nBlessing       1\nDaniela        1\nYehudis        1\nMilana         1\nAmadou         1\nName: nm, Length: 1197, dtype: int64"
                    },
                    "metadata": {}
                }
            ]
        },
        {
            "metadata": {},
            "cell_type": "code",
            "source": "sns.countplot(results_df['ethcty'])\nplt.xlabel('Label')\n\nplt.title('')\nplt.show()",
            "execution_count": 12,
            "outputs": [
                {
                    "output_type": "display_data",
                    "data": {
                        "text/plain": "<Figure size 432x288 with 1 Axes>",
                        "image/png": "[encoded data removed]"
                    },
                    "metadata": {
                        "needs_background": "light"
                    }
                }
            ]
        },
        {
            "metadata": {},
            "cell_type": "code",
            "source": "sns.countplot(results_df['gndr'])\nplt.xlabel('Label')\nplt.title('')",
            "execution_count": 13,
            "outputs": [
                {
                    "output_type": "execute_result",
                    "execution_count": 13,
                    "data": {
                        "text/plain": "Text(0.5, 1.0, '')"
                    },
                    "metadata": {}
                },
                {
                    "output_type": "display_data",
                    "data": {
                        "text/plain": "<Figure size 432x288 with 1 Axes>",
                        "image/png": "[encoded data removed]"
                    },
                    "metadata": {
                        "needs_background": "light"
                    }
                }
            ]
        },
        {
            "metadata": {},
            "cell_type": "markdown",
            "source": "#### Feature Engineering"
        },
        {
            "metadata": {},
            "cell_type": "code",
            "source": "from sklearn.preprocessing import LabelEncoder\nresults_df['gndr']=LabelEncoder().fit_transform(results_df['gndr'])\n\nresults_df['ethcty']=LabelEncoder().fit_transform(results_df['ethcty'])\n",
            "execution_count": 14,
            "outputs": []
        },
        {
            "metadata": {},
            "cell_type": "code",
            "source": "from sklearn.model_selection import train_test_split\n",
            "execution_count": 15,
            "outputs": []
        },
        {
            "metadata": {},
            "cell_type": "code",
            "source": "results_df_train,results_df_test = train_test_split(results_df, test_size=0.8)\nresults_df_train.head()",
            "execution_count": 16,
            "outputs": [
                {
                    "output_type": "execute_result",
                    "execution_count": 16,
                    "data": {
                        "text/plain": "      cnt  ethcty  gndr       nm rnk\n1630   14       2     1     Jean  87\n671   159       3     0   Miriam  11\n688    82       3     0  Abigail  26\n1821   31       3     1     Paul  78\n1612   16       2     1  Charles  85",
                        "text/html": "<div>\n<style scoped>\n    .dataframe tbody tr th:only-of-type {\n        vertical-align: middle;\n    }\n\n    .dataframe tbody tr th {\n        vertical-align: top;\n    }\n\n    .dataframe thead th {\n        text-align: right;\n    }\n</style>\n<table border=\"1\" class=\"dataframe\">\n  <thead>\n    <tr style=\"text-align: right;\">\n      <th></th>\n      <th>cnt</th>\n      <th>ethcty</th>\n      <th>gndr</th>\n      <th>nm</th>\n      <th>rnk</th>\n    </tr>\n  </thead>\n  <tbody>\n    <tr>\n      <th>1630</th>\n      <td>14</td>\n      <td>2</td>\n      <td>1</td>\n      <td>Jean</td>\n      <td>87</td>\n    </tr>\n    <tr>\n      <th>671</th>\n      <td>159</td>\n      <td>3</td>\n      <td>0</td>\n      <td>Miriam</td>\n      <td>11</td>\n    </tr>\n    <tr>\n      <th>688</th>\n      <td>82</td>\n      <td>3</td>\n      <td>0</td>\n      <td>Abigail</td>\n      <td>26</td>\n    </tr>\n    <tr>\n      <th>1821</th>\n      <td>31</td>\n      <td>3</td>\n      <td>1</td>\n      <td>Paul</td>\n      <td>78</td>\n    </tr>\n    <tr>\n      <th>1612</th>\n      <td>16</td>\n      <td>2</td>\n      <td>1</td>\n      <td>Charles</td>\n      <td>85</td>\n    </tr>\n  </tbody>\n</table>\n</div>"
                    },
                    "metadata": {}
                }
            ]
        },
        {
            "metadata": {},
            "cell_type": "code",
            "source": "from pyspark.ml.feature import StringIndexer, OneHotEncoder\nfrom pyspark.ml.linalg import Vectors\nfrom pyspark.ml.feature import  VectorAssembler\nfrom pyspark.ml.feature import Normalizer\nfrom pyspark.sql.functions import *\nfrom pyspark import SparkContext\nfrom pyspark.sql.types import *\nimport pyspark.ml\n",
            "execution_count": 17,
            "outputs": []
        },
        {
            "metadata": {},
            "cell_type": "code",
            "source": "Indexer=StringIndexer(inputCol=\"ethcty\", outputCol=\"etnicity\")",
            "execution_count": 18,
            "outputs": []
        },
        {
            "metadata": {},
            "cell_type": "code",
            "source": "features=VectorAssembler(inputCols=['rnk','cnt'], outputCol=\"features\")",
            "execution_count": 19,
            "outputs": []
        },
        {
            "metadata": {},
            "cell_type": "code",
            "source": "normalizer=Normalizer(inputCol=\"features\", outputCol=\"features_norm\")",
            "execution_count": 20,
            "outputs": []
        },
        {
            "metadata": {},
            "cell_type": "code",
            "source": "from pyspark.ml.classification import LogisticRegression",
            "execution_count": 21,
            "outputs": []
        },
        {
            "metadata": {},
            "cell_type": "code",
            "source": "lr=LogisticRegression(maxIter=10,regParam=0.2, elasticNetParam=0.8)",
            "execution_count": 22,
            "outputs": []
        },
        {
            "metadata": {},
            "cell_type": "markdown",
            "source": "#### Model Definition"
        },
        {
            "metadata": {},
            "cell_type": "code",
            "source": "from pyspark.ml import Pipeline",
            "execution_count": 23,
            "outputs": []
        },
        {
            "metadata": {},
            "cell_type": "code",
            "source": "pipeline=Pipeline(stages=[Indexer,features,normalizer,lr])",
            "execution_count": 24,
            "outputs": []
        },
        {
            "metadata": {},
            "cell_type": "markdown",
            "source": " ###### Not running Model, because of this is Jupyter Notebook without Spark, and will get an Attribute Error"
        },
        {
            "metadata": {},
            "cell_type": "code",
            "source": "model=pipeline.fit(results_df_train)",
            "execution_count": null,
            "outputs": []
        },
        {
            "metadata": {},
            "cell_type": "code",
            "source": "prediction=model.transform(results_df_train)",
            "execution_count": null,
            "outputs": []
        },
        {
            "metadata": {},
            "cell_type": "markdown",
            "source": "#### Evaluation"
        },
        {
            "metadata": {},
            "cell_type": "code",
            "source": "from pyspark.ml.evaluation import MultiClassificationEvaluator",
            "execution_count": null,
            "outputs": []
        },
        {
            "metadata": {},
            "cell_type": "code",
            "source": "eval=MultiClassificationEvaluator().setMetricName('accuracy').setLabelCol('etnicity').setPredictionCol('prediction')",
            "execution_count": null,
            "outputs": []
        },
        {
            "metadata": {},
            "cell_type": "code",
            "source": "eval.evaluate(prediction)",
            "execution_count": null,
            "outputs": []
        },
        {
            "metadata": {},
            "cell_type": "code",
            "source": "model=pipeline.fit(results_df_test)\nprediction=model.transform(results_df_test)\neval.evaluate(prediction)",
            "execution_count": null,
            "outputs": []
        }
    ],
    "metadata": {
        "kernelspec": {
            "name": "python3",
            "display_name": "Python 3.6",
            "language": "python"
        },
        "language_info": {
            "name": "python",
            "version": "3.6.9",
            "mimetype": "text/x-python",
            "codemirror_mode": {
                "name": "ipython",
                "version": 3
            },
            "pygments_lexer": "ipython3",
            "nbconvert_exporter": "python",
            "file_extension": ".py"
        }
    },
    "nbformat": 4,
    "nbformat_minor": 1
}